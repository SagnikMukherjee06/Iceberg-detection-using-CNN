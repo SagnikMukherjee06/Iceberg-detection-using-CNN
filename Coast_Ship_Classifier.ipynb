{
 "cells": [
  {
   "cell_type": "code",
   "execution_count": 1,
   "metadata": {},
   "outputs": [],
   "source": [
    "import cv2\n",
    "import numpy as np\n",
    "import os\n",
    "from random import shuffle\n",
    "from tqdm import tqdm\n",
    "\n",
    "TRAIN_DIR = 'E:/Documents/4th year Project/Training_Data'\n",
    "TEST_DIR = 'E:/Documents/4th year Project/Testing_Data'\n",
    "\n",
    "IMG_SIZE = 50\n",
    "LR = 1e-3\n",
    "\n",
    "MODEL_NAME = 'COAST SHIP CLASSIFIER'"
   ]
  },
  {
   "cell_type": "code",
   "execution_count": 2,
   "metadata": {},
   "outputs": [],
   "source": [
    "def label_img(wordlabel):\n",
    "    if wordlabel == 'Ship':\n",
    "        return [1,0]\n",
    "    elif wordlabel == 'Coast':\n",
    "        return [0,1]\n",
    "    "
   ]
  },
  {
   "cell_type": "code",
   "execution_count": 3,
   "metadata": {},
   "outputs": [],
   "source": [
    "def create_train_data():\n",
    "    training_data = []\n",
    "    for train_file in tqdm(os.listdir(TRAIN_DIR)):\n",
    "        label = label_img(train_file)\n",
    "        temp_path = str(os.path.join(TRAIN_DIR, train_file))\n",
    "        for img in tqdm (os.listdir(temp_path)):\n",
    "            path=os.path.join(TRAIN_DIR, train_file,img)\n",
    "            img = cv2.resize(cv2.imread(path, cv2.IMREAD_GRAYSCALE),(IMG_SIZE, IMG_SIZE))\n",
    "            training_data.append([np.array(img), np.array(label)])\n",
    "    shuffle(training_data)\n",
    "    np.save('train_data.npy',training_data)\n",
    "    return training_data"
   ]
  },
  {
   "cell_type": "code",
   "execution_count": 4,
   "metadata": {},
   "outputs": [],
   "source": [
    "def process_test_data():\n",
    "    testing_data = []\n",
    "    for img in tqdm(os.listdir(TEST_DIR)):\n",
    "        path = os.path.join(TEST_DIR, img)\n",
    "        img_num = img.split('.')[0]\n",
    "        print (img_num)\n",
    "        img = cv2.resize(cv2.imread(path, cv2.IMREAD_GRAYSCALE),(IMG_SIZE, IMG_SIZE))\n",
    "        testing_data.append([np.array(img), np.array(img_num)])\n",
    "    np.save('test_data.npy', testing_data)\n",
    "    return testing_data\n"
   ]
  },
  {
   "cell_type": "code",
   "execution_count": 5,
   "metadata": {},
   "outputs": [
    {
     "name": "stderr",
     "output_type": "stream",
     "text": [
      "  0%|                                                                                            | 0/2 [00:00<?, ?it/s]\n",
      "  0%|                                                                                         | 0/1012 [00:00<?, ?it/s]\n",
      "  1%|▍                                                                                | 6/1012 [00:00<00:16, 59.99it/s]\n",
      "  1%|▉                                                                               | 12/1012 [00:00<00:17, 57.40it/s]\n",
      "  2%|█▌                                                                              | 19/1012 [00:00<00:16, 59.14it/s]\n",
      "  3%|██▏                                                                             | 27/1012 [00:00<00:15, 62.34it/s]\n",
      "  3%|██▋                                                                             | 34/1012 [00:00<00:15, 63.40it/s]\n",
      "  4%|███▏                                                                            | 40/1012 [00:00<00:16, 57.51it/s]\n",
      "  5%|███▋                                                                            | 46/1012 [00:00<00:16, 57.39it/s]\n",
      "  5%|████▎                                                                           | 54/1012 [00:00<00:15, 60.99it/s]\n",
      "  6%|████▋                                                                           | 60/1012 [00:01<00:16, 56.72it/s]\n",
      "  7%|█████▍                                                                          | 68/1012 [00:01<00:15, 61.01it/s]\n",
      "  8%|██████                                                                          | 76/1012 [00:01<00:14, 64.88it/s]\n",
      "  8%|██████▋                                                                         | 85/1012 [00:01<00:13, 68.85it/s]\n",
      "  9%|███████▎                                                                        | 93/1012 [00:01<00:13, 65.98it/s]\n",
      " 10%|███████▊                                                                       | 100/1012 [00:01<00:15, 60.36it/s]\n",
      " 11%|████████▎                                                                      | 107/1012 [00:01<00:14, 61.79it/s]\n",
      " 11%|████████▉                                                                      | 114/1012 [00:01<00:15, 57.70it/s]\n",
      " 12%|█████████▎                                                                     | 120/1012 [00:02<00:18, 48.94it/s]\n",
      " 12%|█████████▊                                                                     | 126/1012 [00:02<00:19, 46.29it/s]\n",
      " 13%|██████████▎                                                                    | 132/1012 [00:02<00:18, 47.56it/s]\n",
      " 14%|██████████▊                                                                    | 138/1012 [00:02<00:18, 48.26it/s]\n",
      " 14%|███████████▏                                                                   | 143/1012 [00:02<00:18, 45.95it/s]\n",
      " 15%|███████████▋                                                                   | 149/1012 [00:02<00:17, 49.17it/s]\n",
      " 15%|████████████                                                                   | 155/1012 [00:02<00:16, 50.54it/s]\n",
      " 16%|████████████▌                                                                  | 161/1012 [00:02<00:17, 48.89it/s]\n",
      " 16%|████████████▉                                                                  | 166/1012 [00:02<00:17, 47.67it/s]\n",
      " 17%|█████████████▍                                                                 | 172/1012 [00:03<00:16, 49.91it/s]\n",
      " 18%|██████████████                                                                 | 180/1012 [00:03<00:14, 55.90it/s]\n",
      " 18%|██████████████▌                                                                | 186/1012 [00:03<00:14, 56.42it/s]\n",
      " 19%|██████████████▉                                                                | 192/1012 [00:03<00:14, 55.53it/s]\n",
      " 20%|███████████████▌                                                               | 199/1012 [00:03<00:14, 57.45it/s]\n",
      " 20%|████████████████▏                                                              | 207/1012 [00:03<00:12, 62.74it/s]\n",
      " 21%|████████████████▋                                                              | 214/1012 [00:03<00:12, 63.88it/s]\n",
      " 22%|█████████████████▎                                                             | 221/1012 [00:03<00:12, 62.09it/s]\n",
      " 23%|█████████████████▊                                                             | 228/1012 [00:03<00:12, 64.26it/s]\n",
      " 23%|██████████████████▎                                                            | 235/1012 [00:04<00:13, 57.60it/s]\n",
      " 24%|██████████████████▊                                                            | 241/1012 [00:04<00:13, 57.13it/s]\n",
      " 25%|███████████████████▍                                                           | 249/1012 [00:04<00:12, 61.33it/s]\n",
      " 25%|████████████████████                                                           | 257/1012 [00:04<00:11, 64.35it/s]\n",
      " 26%|████████████████████▊                                                          | 267/1012 [00:04<00:10, 69.20it/s]\n",
      " 27%|█████████████████████▋                                                         | 278/1012 [00:04<00:09, 76.41it/s]\n",
      " 28%|██████████████████████▍                                                        | 287/1012 [00:04<00:10, 66.98it/s]\n",
      " 29%|███████████████████████                                                        | 295/1012 [00:04<00:10, 67.56it/s]\n",
      " 30%|███████████████████████▋                                                       | 303/1012 [00:05<00:10, 68.13it/s]\n",
      " 31%|████████████████████████▎                                                      | 311/1012 [00:05<00:10, 66.18it/s]\n",
      " 31%|████████████████████████▊                                                      | 318/1012 [00:05<00:10, 63.78it/s]\n",
      " 32%|█████████████████████████▍                                                     | 326/1012 [00:05<00:10, 67.55it/s]\n",
      " 33%|██████████████████████████                                                     | 334/1012 [00:05<00:09, 69.20it/s]\n",
      " 34%|██████████████████████████▋                                                    | 342/1012 [00:05<00:09, 67.90it/s]\n",
      " 34%|███████████████████████████▏                                                   | 349/1012 [00:05<00:09, 66.94it/s]\n",
      " 35%|███████████████████████████▊                                                   | 356/1012 [00:05<00:10, 61.40it/s]\n",
      " 36%|████████████████████████████▌                                                  | 366/1012 [00:05<00:09, 68.58it/s]\n",
      " 37%|█████████████████████████████▏                                                 | 374/1012 [00:06<00:09, 64.21it/s]\n",
      " 38%|█████████████████████████████▋                                                 | 381/1012 [00:06<00:10, 60.55it/s]\n",
      " 38%|██████████████████████████████▎                                                | 389/1012 [00:06<00:09, 62.99it/s]\n",
      " 39%|██████████████████████████████▉                                                | 396/1012 [00:06<00:10, 57.15it/s]\n",
      " 40%|███████████████████████████████▍                                               | 403/1012 [00:06<00:10, 60.32it/s]\n",
      " 41%|████████████████████████████████                                               | 411/1012 [00:06<00:09, 64.02it/s]\n",
      " 41%|████████████████████████████████▋                                              | 418/1012 [00:06<00:09, 63.56it/s]\n",
      " 42%|█████████████████████████████████▎                                             | 426/1012 [00:06<00:09, 64.46it/s]\n",
      " 43%|█████████████████████████████████▊                                             | 433/1012 [00:07<00:08, 64.55it/s]\n",
      " 43%|██████████████████████████████████▎                                            | 440/1012 [00:07<00:08, 65.34it/s]\n",
      " 44%|██████████████████████████████████▉                                            | 447/1012 [00:07<00:10, 54.27it/s]\n",
      " 45%|███████████████████████████████████▎                                           | 453/1012 [00:07<00:11, 50.51it/s]\n",
      " 45%|███████████████████████████████████▊                                           | 459/1012 [00:07<00:11, 49.47it/s]\n",
      " 46%|████████████████████████████████████▎                                          | 465/1012 [00:07<00:11, 47.06it/s]\n",
      " 46%|████████████████████████████████████▋                                          | 470/1012 [00:07<00:12, 42.85it/s]\n"
     ]
    },
    {
     "name": "stderr",
     "output_type": "stream",
     "text": [
      " 47%|█████████████████████████████████████▏                                         | 476/1012 [00:08<00:11, 46.65it/s]\n",
      " 48%|█████████████████████████████████████▊                                         | 484/1012 [00:08<00:09, 52.89it/s]\n",
      " 49%|██████████████████████████████████████▎                                        | 491/1012 [00:08<00:09, 56.79it/s]\n",
      " 49%|██████████████████████████████████████▉                                        | 498/1012 [00:08<00:08, 57.25it/s]\n",
      " 50%|███████████████████████████████████████▍                                       | 505/1012 [00:08<00:09, 52.04it/s]\n",
      " 50%|███████████████████████████████████████▉                                       | 511/1012 [00:08<00:10, 49.01it/s]\n",
      " 51%|████████████████████████████████████████▎                                      | 517/1012 [00:08<00:09, 49.55it/s]\n",
      " 52%|████████████████████████████████████████▊                                      | 523/1012 [00:08<00:09, 52.13it/s]\n",
      " 52%|█████████████████████████████████████████▍                                     | 531/1012 [00:08<00:08, 56.13it/s]\n",
      " 53%|█████████████████████████████████████████▉                                     | 537/1012 [00:09<00:08, 56.76it/s]\n",
      " 54%|██████████████████████████████████████████▍                                    | 543/1012 [00:09<00:08, 56.86it/s]\n",
      " 54%|██████████████████████████████████████████▊                                    | 549/1012 [00:09<00:08, 57.44it/s]\n",
      " 55%|███████████████████████████████████████████▍                                   | 556/1012 [00:09<00:07, 58.85it/s]\n",
      " 56%|███████████████████████████████████████████▊                                   | 562/1012 [00:09<00:08, 50.65it/s]\n",
      " 56%|████████████████████████████████████████████▎                                  | 568/1012 [00:09<00:08, 51.10it/s]\n",
      " 57%|████████████████████████████████████████████▉                                  | 576/1012 [00:09<00:07, 55.98it/s]\n",
      " 58%|█████████████████████████████████████████████▍                                 | 582/1012 [00:09<00:07, 55.08it/s]\n",
      " 58%|█████████████████████████████████████████████▉                                 | 588/1012 [00:10<00:07, 53.02it/s]\n",
      " 59%|██████████████████████████████████████████████▎                                | 594/1012 [00:10<00:08, 50.24it/s]\n",
      " 59%|██████████████████████████████████████████████▊                                | 600/1012 [00:10<00:08, 47.20it/s]\n",
      " 60%|███████████████████████████████████████████████▍                               | 607/1012 [00:10<00:07, 51.17it/s]\n",
      " 61%|███████████████████████████████████████████████▊                               | 613/1012 [00:10<00:08, 49.06it/s]\n",
      " 61%|████████████████████████████████████████████████▎                              | 619/1012 [00:10<00:07, 50.20it/s]\n",
      " 62%|████████████████████████████████████████████████▊                              | 625/1012 [00:10<00:08, 45.77it/s]\n",
      " 62%|█████████████████████████████████████████████████▏                             | 630/1012 [00:10<00:08, 43.65it/s]\n",
      " 63%|█████████████████████████████████████████████████▌                             | 635/1012 [00:11<00:08, 42.04it/s]\n",
      " 63%|█████████████████████████████████████████████████▉                             | 640/1012 [00:11<00:08, 41.41it/s]\n",
      " 64%|██████████████████████████████████████████████████▎                            | 645/1012 [00:11<00:09, 39.29it/s]\n",
      " 64%|██████████████████████████████████████████████████▋                            | 650/1012 [00:11<00:08, 40.54it/s]\n",
      " 65%|███████████████████████████████████████████████████▏                           | 655/1012 [00:11<00:08, 41.59it/s]\n",
      " 65%|███████████████████████████████████████████████████▌                           | 660/1012 [00:11<00:08, 42.68it/s]\n",
      " 66%|███████████████████████████████████████████████████▉                           | 666/1012 [00:11<00:07, 45.86it/s]\n",
      " 67%|████████████████████████████████████████████████████▌                          | 673/1012 [00:11<00:06, 48.90it/s]\n",
      " 67%|█████████████████████████████████████████████████████                          | 679/1012 [00:12<00:06, 50.37it/s]\n",
      " 68%|█████████████████████████████████████████████████████▌                         | 686/1012 [00:12<00:05, 54.60it/s]\n",
      " 68%|██████████████████████████████████████████████████████                         | 692/1012 [00:12<00:06, 52.85it/s]\n",
      " 69%|██████████████████████████████████████████████████████▌                        | 699/1012 [00:12<00:05, 55.07it/s]\n",
      " 70%|███████████████████████████████████████████████████████                        | 705/1012 [00:12<00:06, 49.81it/s]\n",
      " 70%|███████████████████████████████████████████████████████▌                       | 711/1012 [00:12<00:06, 46.29it/s]\n",
      " 71%|███████████████████████████████████████████████████████▉                       | 716/1012 [00:12<00:06, 45.65it/s]\n",
      " 71%|████████████████████████████████████████████████████████▎                      | 721/1012 [00:12<00:06, 44.26it/s]\n",
      " 72%|████████████████████████████████████████████████████████▋                      | 726/1012 [00:13<00:06, 42.45it/s]\n",
      " 72%|█████████████████████████████████████████████████████████                      | 731/1012 [00:13<00:06, 40.21it/s]\n",
      " 73%|█████████████████████████████████████████████████████████▌                     | 738/1012 [00:13<00:06, 45.55it/s]\n",
      " 74%|██████████████████████████████████████████████████████████▏                    | 745/1012 [00:13<00:05, 49.79it/s]\n",
      " 74%|██████████████████████████████████████████████████████████▊                    | 753/1012 [00:13<00:04, 55.45it/s]\n",
      " 75%|███████████████████████████████████████████████████████████▍                   | 761/1012 [00:13<00:04, 59.53it/s]\n",
      " 76%|███████████████████████████████████████████████████████████▉                   | 768/1012 [00:13<00:04, 58.35it/s]\n",
      " 77%|████████████████████████████████████████████████████████████▍                  | 775/1012 [00:13<00:03, 60.68it/s]\n",
      " 77%|█████████████████████████████████████████████████████████████                  | 782/1012 [00:13<00:03, 59.94it/s]\n",
      " 78%|█████████████████████████████████████████████████████████████▋                 | 791/1012 [00:14<00:03, 64.54it/s]\n",
      " 79%|██████████████████████████████████████████████████████████████▎                | 798/1012 [00:14<00:03, 64.85it/s]\n",
      " 80%|██████████████████████████████████████████████████████████████▊                | 805/1012 [00:14<00:03, 63.95it/s]\n",
      " 80%|███████████████████████████████████████████████████████████████▌               | 814/1012 [00:14<00:02, 67.93it/s]\n",
      " 81%|████████████████████████████████████████████████████████████████▏              | 823/1012 [00:14<00:02, 72.97it/s]\n",
      " 82%|█████████████████████████████████████████████████████████████████              | 834/1012 [00:14<00:02, 81.02it/s]\n",
      " 83%|█████████████████████████████████████████████████████████████████▊             | 843/1012 [00:14<00:02, 77.48it/s]\n",
      " 84%|██████████████████████████████████████████████████████████████████▋            | 854/1012 [00:14<00:01, 83.46it/s]\n",
      " 85%|███████████████████████████████████████████████████████████████████▎           | 863/1012 [00:14<00:01, 79.23it/s]\n",
      " 86%|████████████████████████████████████████████████████████████████████           | 872/1012 [00:15<00:01, 73.50it/s]\n",
      " 87%|████████████████████████████████████████████████████████████████████▋          | 880/1012 [00:15<00:01, 69.46it/s]\n",
      " 88%|█████████████████████████████████████████████████████████████████████▎         | 888/1012 [00:15<00:01, 67.04it/s]\n",
      " 89%|█████████████████████████████████████████████████████████████████████▉         | 896/1012 [00:15<00:01, 68.63it/s]\n",
      " 89%|██████████████████████████████████████████████████████████████████████▌        | 904/1012 [00:15<00:01, 60.07it/s]\n",
      " 90%|███████████████████████████████████████████████████████████████████████        | 911/1012 [00:15<00:01, 51.17it/s]\n",
      " 91%|███████████████████████████████████████████████████████████████████████▋       | 918/1012 [00:15<00:01, 53.98it/s]\n",
      " 91%|████████████████████████████████████████████████████████████████████████▏      | 924/1012 [00:16<00:01, 53.72it/s]\n",
      " 92%|████████████████████████████████████████████████████████████████████████▋      | 931/1012 [00:16<00:01, 56.49it/s]\n"
     ]
    },
    {
     "name": "stderr",
     "output_type": "stream",
     "text": [
      " 93%|█████████████████████████████████████████████████████████████████████████▏     | 937/1012 [00:16<00:01, 51.96it/s]\n",
      " 93%|█████████████████████████████████████████████████████████████████████████▌     | 943/1012 [00:16<00:01, 51.62it/s]\n",
      " 94%|██████████████████████████████████████████████████████████████████████████     | 949/1012 [00:16<00:01, 49.97it/s]\n",
      " 94%|██████████████████████████████████████████████████████████████████████████▋    | 956/1012 [00:16<00:01, 53.28it/s]\n",
      " 95%|███████████████████████████████████████████████████████████████████████████▎   | 964/1012 [00:16<00:00, 58.57it/s]\n",
      " 96%|███████████████████████████████████████████████████████████████████████████▊   | 971/1012 [00:16<00:00, 50.84it/s]\n",
      " 97%|████████████████████████████████████████████████████████████████████████████▎  | 977/1012 [00:17<00:00, 52.30it/s]\n",
      " 97%|████████████████████████████████████████████████████████████████████████████▋  | 983/1012 [00:17<00:00, 50.05it/s]\n",
      " 98%|█████████████████████████████████████████████████████████████████████████████▎ | 990/1012 [00:17<00:00, 54.21it/s]\n",
      " 98%|█████████████████████████████████████████████████████████████████████████████▊ | 996/1012 [00:17<00:00, 52.19it/s]\n",
      " 99%|█████████████████████████████████████████████████████████████████████████████▏| 1002/1012 [00:17<00:00, 51.24it/s]\n",
      "100%|█████████████████████████████████████████████████████████████████████████████▋| 1008/1012 [00:17<00:00, 49.17it/s]\n",
      " 50%|██████████████████████████████████████████                                          | 1/2 [00:17<00:17, 17.78s/it]\n",
      "  0%|                                                                                         | 0/1738 [00:00<?, ?it/s]\n",
      "  5%|████▏                                                                          | 91/1738 [00:00<00:01, 909.17it/s]\n",
      " 10%|███████▌                                                                      | 169/1738 [00:00<00:01, 860.54it/s]\n",
      " 13%|██████████▍                                                                   | 232/1738 [00:00<00:01, 775.13it/s]\n",
      " 19%|██████████████▉                                                               | 333/1738 [00:00<00:01, 833.21it/s]\n",
      " 27%|████████████████████▉                                                         | 466/1738 [00:00<00:01, 937.61it/s]\n",
      " 34%|██████████████████████████▍                                                   | 590/1738 [00:00<00:01, 992.13it/s]\n",
      " 39%|██████████████████████████████▋                                               | 684/1738 [00:00<00:01, 939.22it/s]\n",
      " 45%|██████████████████████████████████▊                                           | 775/1738 [00:00<00:01, 924.51it/s]\n",
      " 50%|██████████████████████████████████████▊                                       | 866/1738 [00:00<00:00, 882.36it/s]\n",
      " 55%|██████████████████████████████████████████▊                                   | 954/1738 [00:01<00:00, 868.53it/s]\n",
      " 60%|██████████████████████████████████████████████                               | 1041/1738 [00:01<00:00, 786.61it/s]\n",
      " 64%|█████████████████████████████████████████████████▋                           | 1121/1738 [00:01<00:00, 783.75it/s]\n",
      " 71%|██████████████████████████████████████████████████████▎                      | 1227/1738 [00:01<00:00, 833.41it/s]\n",
      " 76%|██████████████████████████████████████████████████████████▌                  | 1323/1738 [00:01<00:00, 866.62it/s]\n",
      " 81%|██████████████████████████████████████████████████████████████▌              | 1411/1738 [00:01<00:00, 826.36it/s]\n",
      " 86%|██████████████████████████████████████████████████████████████████▎          | 1497/1738 [00:01<00:00, 836.11it/s]\n",
      " 93%|███████████████████████████████████████████████████████████████████████▏     | 1608/1738 [00:01<00:00, 902.73it/s]\n",
      " 99%|████████████████████████████████████████████████████████████████████████████ | 1718/1738 [00:01<00:00, 954.00it/s]\n",
      "100%|████████████████████████████████████████████████████████████████████████████████████| 2/2 [00:19<00:00, 13.03s/it]\n"
     ]
    }
   ],
   "source": [
    "train_data = create_train_data()"
   ]
  },
  {
   "cell_type": "code",
   "execution_count": 6,
   "metadata": {},
   "outputs": [
    {
     "name": "stdout",
     "output_type": "stream",
     "text": [
      "curses is not supported on this machine (please install/reinstall curses for an optimal experience)\n",
      "WARNING:tensorflow:From C:\\Users\\HP\\Anaconda3\\lib\\site-packages\\tflearn\\initializations.py:119: UniformUnitScaling.__init__ (from tensorflow.python.ops.init_ops) is deprecated and will be removed in a future version.\n",
      "Instructions for updating:\n",
      "Use tf.initializers.variance_scaling instead with distribution=uniform to get equivalent behavior.\n",
      "WARNING:tensorflow:From C:\\Users\\HP\\Anaconda3\\lib\\site-packages\\tflearn\\objectives.py:66: calling reduce_sum (from tensorflow.python.ops.math_ops) with keep_dims is deprecated and will be removed in a future version.\n",
      "Instructions for updating:\n",
      "keep_dims is deprecated, use keepdims instead\n"
     ]
    }
   ],
   "source": [
    "import tflearn\n",
    "from tflearn.layers.conv import conv_2d, max_pool_2d\n",
    "from tflearn.layers.core import input_data, dropout, fully_connected\n",
    "from tflearn.layers.estimator import regression\n",
    "\n",
    "\n",
    "convnet = input_data(shape=[None, IMG_SIZE, IMG_SIZE, 1], name='input')\n",
    "\n",
    "for i in range(5):\n",
    "    convnet = conv_2d(convnet, 32, 2, activation='relu')\n",
    "    convnet = max_pool_2d(convnet, 2)\n",
    "\n",
    "    convnet = conv_2d(convnet, 64, 2, activation='relu')\n",
    "    convnet = max_pool_2d(convnet, 2)\n",
    "\n",
    "convnet = fully_connected(convnet, 1024, activation='relu')\n",
    "convnet = dropout(convnet, 0.8)\n",
    "\n",
    "convnet = fully_connected(convnet, 2, activation='softmax')\n",
    "convnet = regression(convnet, optimizer='adam', learning_rate=LR, loss='categorical_crossentropy', name='targets')\n",
    "\n",
    "model = tflearn.DNN(convnet, tensorboard_dir='log')"
   ]
  },
  {
   "cell_type": "code",
   "execution_count": 7,
   "metadata": {},
   "outputs": [],
   "source": [
    "# if os.path.exists('{}.meta'.format(MODEL_NAME)):\n",
    "    # model.load(MODEL_NAME)\n",
    "    # print ('Model Loaded!')"
   ]
  },
  {
   "cell_type": "code",
   "execution_count": 8,
   "metadata": {},
   "outputs": [],
   "source": [
    "train = train_data[:500]\n",
    "test = train_data[-500:]"
   ]
  },
  {
   "cell_type": "code",
   "execution_count": 9,
   "metadata": {},
   "outputs": [],
   "source": [
    "X = np.array([i[0] for i in train]).reshape(-1,IMG_SIZE,IMG_SIZE,1)\n",
    "Y = [i[1] for i in train]\n",
    "\n",
    "test_x = np.array([i[0] for i in test]).reshape(-1,IMG_SIZE,IMG_SIZE,1)\n",
    "test_y = [i[1] for i in test]"
   ]
  },
  {
   "cell_type": "code",
   "execution_count": 10,
   "metadata": {},
   "outputs": [
    {
     "name": "stdout",
     "output_type": "stream",
     "text": [
      "Training Step: 79  | total loss: 0.24110 | time: 2.634s\n",
      "| Adam | epoch: 010 | loss: 0.24110 - acc: 0.9086 -- iter: 448/500\n",
      "Training Step: 80  | total loss: 0.23379 | time: 4.008s\n",
      "| Adam | epoch: 010 | loss: 0.23379 - acc: 0.9100 | val_loss: 0.16672 - val_acc: 0.9500 -- iter: 500/500\n",
      "--\n"
     ]
    }
   ],
   "source": [
    "model.fit({'input': X}, {'targets': Y}, n_epoch=10, validation_set=({'input': test_x}, {'targets': test_y}),snapshot_step=500, show_metric=True, run_id=MODEL_NAME)"
   ]
  },
  {
   "cell_type": "code",
   "execution_count": 11,
   "metadata": {},
   "outputs": [
    {
     "name": "stdout",
     "output_type": "stream",
     "text": [
      "INFO:tensorflow:C:\\Users\\HP\\COAST SHIP CLASSIFIER is not in all_model_checkpoint_paths. Manually adding it.\n"
     ]
    }
   ],
   "source": [
    "model.save(MODEL_NAME)"
   ]
  },
  {
   "cell_type": "code",
   "execution_count": 13,
   "metadata": {},
   "outputs": [
    {
     "name": "stderr",
     "output_type": "stream",
     "text": [
      "\r",
      "  0%|                                                                                            | 0/6 [00:00<?, ?it/s]"
     ]
    },
    {
     "name": "stdout",
     "output_type": "stream",
     "text": [
      "c1013\n",
      "c1015\n",
      "c1052\n",
      "d1781\n",
      "d1782\n",
      "d1783\n"
     ]
    },
    {
     "name": "stderr",
     "output_type": "stream",
     "text": [
      "100%|████████████████████████████████████████████████████████████████████████████████████| 6/6 [00:00<00:00, 66.65it/s]\n"
     ]
    },
    {
     "data": {
      "image/png": "[encoded data removed]",
      "text/plain": [
       "<Figure size 432x288 with 6 Axes>"
      ]
     },
     "metadata": {
      "needs_background": "light"
     },
     "output_type": "display_data"
    }
   ],
   "source": [
    "import matplotlib.pyplot as plt\n",
    "\n",
    "test_data = process_test_data()\n",
    "fig = plt.figure()\n",
    "\n",
    "for num, data in enumerate(test_data[:12]):\n",
    "    img_num = data[1]\n",
    "    img_data = data[0]\n",
    "    \n",
    "    y = fig.add_subplot(3,4,num+1)\n",
    "    orig = img_data\n",
    "    data = img_data.reshape(IMG_SIZE,IMG_SIZE,1)\n",
    "    \n",
    "    model_out = model.predict([data])[0]\n",
    "    \n",
    "    if np.argmax(model_out) == 1:\n",
    "        str_label = 'Coast'\n",
    "    else:\n",
    "        str_label = 'Ship'\n",
    "    y.imshow(orig, cmap='gray')\n",
    "    plt.title(str_label)\n",
    "    y.axes.get_xaxis().set_visible(False)\n",
    "    y.axes.get_xaxis().set_visible(True)\n",
    "plt.show()"
   ]
  },
  {
   "cell_type": "code",
   "execution_count": null,
   "metadata": {},
   "outputs": [],
   "source": []
  }
 ],
 "metadata": {
  "kernelspec": {
   "display_name": "Python 3",
   "language": "python",
   "name": "python3"
  },
  "language_info": {
   "codemirror_mode": {
    "name": "ipython",
    "version": 3
   },
   "file_extension": ".py",
   "mimetype": "text/x-python",
   "name": "python",
   "nbconvert_exporter": "python",
   "pygments_lexer": "ipython3",
   "version": "3.6.5"
  }
 },
 "nbformat": 4,
 "nbformat_minor": 2
}
